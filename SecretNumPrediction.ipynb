{
  "nbformat": 4,
  "nbformat_minor": 0,
  "metadata": {
    "colab": {
      "name": "SecretNumPrediction.ipynb",
      "provenance": [],
      "authorship_tag": "ABX9TyMVOPvk7QJ5G0+UMfd4+lMs",
      "include_colab_link": true
    },
    "kernelspec": {
      "name": "python3",
      "display_name": "Python 3"
    }
  },
  "cells": [
    {
      "cell_type": "markdown",
      "metadata": {
        "id": "view-in-github",
        "colab_type": "text"
      },
      "source": [
        "<a href=\"https://colab.research.google.com/github/rozario-lamperouge/Quantum-Computing/blob/master/SecretNumPrediction.ipynb\" target=\"_parent\"><img src=\"https://colab.research.google.com/assets/colab-badge.svg\" alt=\"Open In Colab\"/></a>"
      ]
    },
    {
      "cell_type": "code",
      "metadata": {
        "id": "7o5hwh64Je4Y",
        "colab_type": "code",
        "colab": {}
      },
      "source": [
        "!pip install qiskit\n",
        "!pip install matplotlib\n",
        "\n",
        "import qiskit as q\n",
        "%matplotlib inline"
      ],
      "execution_count": null,
      "outputs": []
    },
    {
      "cell_type": "code",
      "metadata": {
        "id": "7bYRMYT4JKsE",
        "colab_type": "code",
        "colab": {
          "base_uri": "https://localhost:8080/",
          "height": 87
        },
        "outputId": "2d177f5a-cd7b-4087-99c9-773c3736185c"
      },
      "source": [
        "# secretnum = '10100'\n",
        "# convert decimal num to binary\n",
        "a = int(input(\"Enter Secret Number:\"))\n",
        "secretnum = \"{0:b}\".format(a)\n",
        "\n",
        "print(\"Your Quantum Algorithm is Running!\")\n",
        "circuit = q.QuantumCircuit(len(secretnum)+1, len(secretnum))\n",
        "\n",
        "# circuit.h([0,1,2,3,4,5])\n",
        "circuit.h(range(len(secretnum)))\n",
        "\n",
        "# circuit.x(6)\n",
        "# circuit.h(6)\n",
        "circuit.x(len(secretnum))\n",
        "circuit.h(len(secretnum))\n",
        "circuit.barrier()\n",
        "\n",
        "for i, j in enumerate(reversed(secretnum)):\n",
        "  if j == '1':\n",
        "    circuit.cx(i, len(secretnum))\n",
        "\n",
        "# circuit.cx(5, 6)\n",
        "# circuit.cx(3, 6)\n",
        "# circuit.cx(0, 6)\n",
        "circuit.barrier()\n",
        "\n",
        "# circuit.h([0,1,2,3,4,5])\n",
        "circuit.h(range(len(secretnum)))\n",
        "circuit.barrier()\n",
        "\n",
        "# circuit.measure([0,1,2,3,4,5],[0,1,2,3,4,5])\n",
        "circuit.measure(range(len(secretnum)),range(len(secretnum)))\n",
        "circuit.barrier()\n",
        "\n",
        "simulator = q.Aer.get_backend('qasm_simulator')\n",
        "result = q.execute(circuit, backend=simulator, shots=1).result()\n",
        "counts = result.get_counts()\n",
        "\n",
        "counts = str(counts)\n",
        "counts = (counts[2:len(secretnum)+2])\n",
        "print(\"the binary of ur num is\", counts)\n",
        "\n",
        "# convert binary num to decimal\n",
        "num = int(counts, 2) \n",
        "print(\"Your Secret Number is :\", num) "
      ],
      "execution_count": 3,
      "outputs": [
        {
          "output_type": "stream",
          "text": [
            "Enter Secret Number:876\n",
            "Your Quantum Algorithm is Running!\n",
            "the binary of ur num is 1101101100\n",
            "Your Secret Number is : 876\n"
          ],
          "name": "stdout"
        }
      ]
    }
  ]
}