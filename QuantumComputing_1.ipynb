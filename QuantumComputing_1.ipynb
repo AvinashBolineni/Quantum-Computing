{
  "nbformat": 4,
  "nbformat_minor": 0,
  "metadata": {
    "colab": {
      "name": "QuantumComputing-1.ipynb",
      "provenance": [],
      "authorship_tag": "ABX9TyMyVfWo27lJ6dAo1LE54pAY",
      "include_colab_link": true
    },
    "kernelspec": {
      "name": "python3",
      "display_name": "Python 3"
    }
  },
  "cells": [
    {
      "cell_type": "markdown",
      "metadata": {
        "id": "view-in-github",
        "colab_type": "text"
      },
      "source": [
        "<a href=\"https://colab.research.google.com/github/rozario-lamperouge/Quantum-Computing/blob/master/QuantumComputing_1.ipynb\" target=\"_parent\"><img src=\"https://colab.research.google.com/assets/colab-badge.svg\" alt=\"Open In Colab\"/></a>"
      ]
    },
    {
      "cell_type": "markdown",
      "metadata": {
        "id": "iHgIv9bQ5oK8",
        "colab_type": "text"
      },
      "source": [
        "## What is Quantum Computing?\n",
        "\n",
        "Quantum computing is the use of quantum-mechanical phenomena such as superposition and entanglement to perform computation. Computers that perform quantum computations are known as quantum computers.\n",
        "\n",
        "\n",
        "---\n",
        "## What is Quantum?:\n",
        "In physics, a quantum is the minimum amount of any physical entity involved in an interaction. \n",
        "\n",
        "\n",
        "\n",
        "##Classical Computing:\n",
        "\n",
        "Classical Computers use bits in the form of transistors which take either of two values – 0 or 1.\n",
        "\n",
        "\n",
        "##Quantum Computing:\n",
        "\n",
        "Quantum Computing uses Quibits instead of bits.. Quibits are in a combnation of 0 and 1 , instead of being a single value. \n",
        "\n",
        "In can even take both in the case of superposition\n",
        "\n",
        "\n",
        "![alt text](https://miro.medium.com/max/1544/0*IR3gbPgWrgt0SU3M)\n",
        "\n",
        "\n",
        "\n",
        "---\n",
        "\n",
        "\n",
        "\n",
        "\n",
        "\n",
        "\n"
      ]
    },
    {
      "cell_type": "markdown",
      "metadata": {
        "id": "1nxt0UmSFY8H",
        "colab_type": "text"
      },
      "source": [
        "# Installing Requirements\n",
        "Qiskit is a package in Python for doing everything you'll ever need with quantum computing.\n",
        "\n",
        "If you don't have it already, you need to install it. Once it is installed, you need to import it."
      ]
    },
    {
      "cell_type": "code",
      "metadata": {
        "id": "kZSKWo8mEsPo",
        "colab_type": "code",
        "colab": {}
      },
      "source": [
        "!pip install qiskit\n",
        "!pip install matplotlib"
      ],
      "execution_count": null,
      "outputs": []
    },
    {
      "cell_type": "code",
      "metadata": {
        "id": "_lVBIhGBFTvL",
        "colab_type": "code",
        "colab": {}
      },
      "source": [
        "import qiskit as q\n",
        "%matplotlib inline"
      ],
      "execution_count": 3,
      "outputs": []
    },
    {
      "cell_type": "markdown",
      "metadata": {
        "id": "dJx99_Z3GZW4",
        "colab_type": "text"
      },
      "source": [
        "# Load Your IBM account\n"
      ]
    },
    {
      "cell_type": "code",
      "metadata": {
        "id": "45KAnzp7GX04",
        "colab_type": "code",
        "colab": {
          "base_uri": "https://localhost:8080/",
          "height": 35
        },
        "outputId": "3890247c-01b6-4b36-bdc6-833d37dbe28b"
      },
      "source": [
        "from qiskit import IBMQ\n",
        "\n",
        "#loading my secret token from token.txt file\n",
        "IBMQ.save_account(open('token.txt','r').read())\n",
        "IBMQ.load_account()"
      ],
      "execution_count": 4,
      "outputs": [
        {
          "output_type": "execute_result",
          "data": {
            "text/plain": [
              "<AccountProvider for IBMQ(hub='ibm-q', group='open', project='main')>"
            ]
          },
          "metadata": {
            "tags": []
          },
          "execution_count": 4
        }
      ]
    },
    {
      "cell_type": "markdown",
      "metadata": {
        "id": "-_-1KZJlLpVE",
        "colab_type": "text"
      },
      "source": [
        "# Create a Quantum Circuit"
      ]
    },
    {
      "cell_type": "markdown",
      "metadata": {
        "id": "XTcEH1MZHTKn",
        "colab_type": "text"
      },
      "source": [
        "Create a Quantum Register "
      ]
    },
    {
      "cell_type": "code",
      "metadata": {
        "id": "qM_qTVZIHSWt",
        "colab_type": "code",
        "colab": {}
      },
      "source": [
        "qr = q.QuantumRegister(2)"
      ],
      "execution_count": 5,
      "outputs": []
    },
    {
      "cell_type": "markdown",
      "metadata": {
        "id": "SVVpbp38K1Bn",
        "colab_type": "text"
      },
      "source": [
        "Create a Classical Register"
      ]
    },
    {
      "cell_type": "code",
      "metadata": {
        "id": "VsUSTzynK5yP",
        "colab_type": "code",
        "colab": {}
      },
      "source": [
        "cr = q.ClassicalRegister(2)"
      ],
      "execution_count": 6,
      "outputs": []
    },
    {
      "cell_type": "markdown",
      "metadata": {
        "id": "WPY-LGG6LB6r",
        "colab_type": "text"
      },
      "source": [
        "Create a Quantum Circuit, Consisting both the quantum and classical register"
      ]
    },
    {
      "cell_type": "code",
      "metadata": {
        "id": "2W9O7mhiLd7b",
        "colab_type": "code",
        "colab": {
          "base_uri": "https://localhost:8080/",
          "height": 156
        },
        "outputId": "b86cd242-f564-4a36-c017-e9d65e88ac19"
      },
      "source": [
        "circuit = q.QuantumCircuit(qr,cr)\n",
        "circuit.draw()"
      ],
      "execution_count": 18,
      "outputs": [
        {
          "output_type": "execute_result",
          "data": {
            "text/html": [
              "<pre style=\"word-wrap: normal;white-space: pre;background: #fff0;line-height: 1.1;font-family: &quot;Courier New&quot;,Courier,monospace\">      \n",
              "q0_0: \n",
              "      \n",
              "q0_1: \n",
              "      \n",
              "c0_0: \n",
              "      \n",
              "c0_1: \n",
              "      </pre>"
            ],
            "text/plain": [
              "      \n",
              "q0_0: \n",
              "      \n",
              "q0_1: \n",
              "      \n",
              "c0_0: \n",
              "      \n",
              "c0_1: \n",
              "      "
            ]
          },
          "metadata": {
            "tags": []
          },
          "execution_count": 18
        }
      ]
    },
    {
      "cell_type": "markdown",
      "metadata": {
        "id": "epI9g-xCL3Uj",
        "colab_type": "text"
      },
      "source": [
        "Apply an not gate to the circuit:"
      ]
    },
    {
      "cell_type": "code",
      "metadata": {
        "id": "TrZHBW6zL9GT",
        "colab_type": "code",
        "colab": {
          "base_uri": "https://localhost:8080/",
          "height": 156
        },
        "outputId": "85948098-ea2c-4173-e97e-4c61b9fbc533"
      },
      "source": [
        "circuit.h(0)\n",
        "circuit.draw()"
      ],
      "execution_count": 19,
      "outputs": [
        {
          "output_type": "execute_result",
          "data": {
            "text/html": [
              "<pre style=\"word-wrap: normal;white-space: pre;background: #fff0;line-height: 1.1;font-family: &quot;Courier New&quot;,Courier,monospace\">      ┌───┐\n",
              "q0_0: ┤ H ├\n",
              "      └───┘\n",
              "q0_1: ─────\n",
              "           \n",
              "c0_0: ═════\n",
              "           \n",
              "c0_1: ═════\n",
              "           </pre>"
            ],
            "text/plain": [
              "      ┌───┐\n",
              "q0_0: ┤ H ├\n",
              "      └───┘\n",
              "q0_1: ─────\n",
              "           \n",
              "c0_0: ═════\n",
              "           \n",
              "c0_1: ═════\n",
              "           "
            ]
          },
          "metadata": {
            "tags": []
          },
          "execution_count": 19
        }
      ]
    },
    {
      "cell_type": "code",
      "metadata": {
        "id": "KWqJwrQVMKjy",
        "colab_type": "code",
        "colab": {
          "base_uri": "https://localhost:8080/",
          "height": 185
        },
        "outputId": "2ef92c69-c518-4596-e977-2e7b52a816da"
      },
      "source": [
        "circuit.draw(output='mpl')"
      ],
      "execution_count": 20,
      "outputs": [
        {
          "output_type": "execute_result",
          "data": {
            "image/png": "[encoded data removed]",
            "text/plain": [
              "<Figure size 249.228x204.68 with 1 Axes>"
            ]
          },
          "metadata": {
            "tags": []
          },
          "execution_count": 20
        }
      ]
    },
    {
      "cell_type": "markdown",
      "metadata": {
        "id": "z4Z2v2XVNU7n",
        "colab_type": "text"
      },
      "source": [
        "## lets create an entanglement!\n",
        "\n",
        "Apply an Controlled not gate (cx) , the second quibit will return 1 only if the first quibit is 1."
      ]
    },
    {
      "cell_type": "code",
      "metadata": {
        "id": "ptmTu4boMzQO",
        "colab_type": "code",
        "colab": {
          "base_uri": "https://localhost:8080/",
          "height": 185
        },
        "outputId": "4b7febb9-58d2-48f7-99bf-46ed922fb2b7"
      },
      "source": [
        "circuit.cx(0,1)\n",
        "circuit.draw(output='mpl')"
      ],
      "execution_count": 21,
      "outputs": [
        {
          "output_type": "execute_result",
          "data": {
            "image/png": "[encoded data removed]",
            "text/plain": [
              "<Figure size 309.428x204.68 with 1 Axes>"
            ]
          },
          "metadata": {
            "tags": []
          },
          "execution_count": 21
        }
      ]
    },
    {
      "cell_type": "markdown",
      "metadata": {
        "id": "PKvfa8g4OwPH",
        "colab_type": "text"
      },
      "source": [
        "## its time to make use of our classical bits!"
      ]
    },
    {
      "cell_type": "code",
      "metadata": {
        "id": "uVQNYuXBN75R",
        "colab_type": "code",
        "colab": {
          "base_uri": "https://localhost:8080/",
          "height": 185
        },
        "outputId": "f8bf1cdd-70ac-43af-b04e-a70a138b208d"
      },
      "source": [
        "circuit.measure(qr,cr)\n",
        "circuit.draw(output='mpl')"
      ],
      "execution_count": 22,
      "outputs": [
        {
          "output_type": "execute_result",
          "data": {
            "image/png": "[encoded data removed]",
            "text/plain": [
              "<Figure size 429.828x204.68 with 1 Axes>"
            ]
          },
          "metadata": {
            "tags": []
          },
          "execution_count": 22
        }
      ]
    },
    {
      "cell_type": "markdown",
      "metadata": {
        "id": "f_b5dAn3PShT",
        "colab_type": "text"
      },
      "source": [
        "# Run the Code in Simulator :(\n",
        "  our Quantum circuit is ready now, but before running it in an real quantum computer, lets first run it in a simulator, and see how the resulta looks like."
      ]
    },
    {
      "cell_type": "code",
      "metadata": {
        "id": "-LRGUfsWQBRm",
        "colab_type": "code",
        "colab": {}
      },
      "source": [
        "# Initializing the simulator\n",
        "simulator = q.Aer.get_backend('qasm_simulator')\n",
        "\n",
        "# running our circuit using the simulator\n",
        "job = q.execute(circuit ,backend=simulator)\n",
        "result = job.result()"
      ],
      "execution_count": 38,
      "outputs": []
    },
    {
      "cell_type": "markdown",
      "metadata": {
        "id": "-yBNsH3qQ4JW",
        "colab_type": "text"
      },
      "source": [
        "time to look at the counts from the simulator"
      ]
    },
    {
      "cell_type": "code",
      "metadata": {
        "id": "ZDIVJUQZQgqY",
        "colab_type": "code",
        "colab": {
          "base_uri": "https://localhost:8080/",
          "height": 35
        },
        "outputId": "6f29eb1e-0c44-4b95-c99d-b7097b62420d"
      },
      "source": [
        "counts = result.get_counts(circuit)\n",
        "print(counts)"
      ],
      "execution_count": 39,
      "outputs": [
        {
          "output_type": "stream",
          "text": [
            "{'11': 520, '00': 504}\n"
          ],
          "name": "stdout"
        }
      ]
    },
    {
      "cell_type": "markdown",
      "metadata": {
        "id": "PVjgnTfXRJYT",
        "colab_type": "text"
      },
      "source": [
        "lets plot the results, to get a better understanding"
      ]
    },
    {
      "cell_type": "code",
      "metadata": {
        "id": "tMCRLulzRQXY",
        "colab_type": "code",
        "colab": {
          "base_uri": "https://localhost:8080/",
          "height": 332
        },
        "outputId": "aa25d2e5-7a89-4860-b65c-19a25585afdc"
      },
      "source": [
        "from qiskit.tools.visualization import plot_histogram\n",
        "plot_histogram(counts)"
      ],
      "execution_count": 40,
      "outputs": [
        {
          "output_type": "execute_result",
          "data": {
            "image/png": "[encoded data removed]",
            "text/plain": [
              "<Figure size 504x360 with 1 Axes>"
            ]
          },
          "metadata": {
            "tags": []
          },
          "execution_count": 40
        }
      ]
    },
    {
      "cell_type": "markdown",
      "metadata": {
        "id": "ZPKHCBJhSDJZ",
        "colab_type": "text"
      },
      "source": [
        "# Finally!, lets run our code in a real quantum computer!! "
      ]
    },
    {
      "cell_type": "markdown",
      "metadata": {
        "id": "wMh7J-ypSUnr",
        "colab_type": "text"
      },
      "source": [
        "we would need to get the provider first"
      ]
    },
    {
      "cell_type": "code",
      "metadata": {
        "id": "6CE7wQU-ScZ1",
        "colab_type": "code",
        "colab": {}
      },
      "source": [
        "provider = IBMQ.get_provider('ibm-q')"
      ],
      "execution_count": 27,
      "outputs": []
    },
    {
      "cell_type": "markdown",
      "metadata": {
        "id": "a6HuenAySunl",
        "colab_type": "text"
      },
      "source": [
        "##lets take a look at the available options and we could choose the one we like\n",
        "\n",
        "we will list the avilable backends, and see the number of qubits each backend has.."
      ]
    },
    {
      "cell_type": "code",
      "metadata": {
        "id": "n89SYz_QTLK8",
        "colab_type": "code",
        "colab": {
          "base_uri": "https://localhost:8080/",
          "height": 196
        },
        "outputId": "3b2a1495-e3ef-4e4d-d0bb-76540ffd9187"
      },
      "source": [
        "for i in provider.backends():\n",
        "  try:\n",
        "    print(i, len(i.properties().qubits))\n",
        "  except:\n",
        "    print(i, 'simulator')"
      ],
      "execution_count": 32,
      "outputs": [
        {
          "output_type": "stream",
          "text": [
            "ibmq_qasm_simulator simulator\n",
            "ibmqx2 5\n",
            "ibmq_16_melbourne 15\n",
            "ibmq_vigo 5\n",
            "ibmq_ourense 5\n",
            "ibmq_london 5\n",
            "ibmq_burlington 5\n",
            "ibmq_essex 5\n",
            "ibmq_armonk 1\n",
            "ibmq_rome 5\n"
          ],
          "name": "stdout"
        }
      ]
    },
    {
      "cell_type": "markdown",
      "metadata": {
        "id": "X_lFyRQGU2Eg",
        "colab_type": "text"
      },
      "source": [
        "now we can select the quantum computer of our choice"
      ]
    },
    {
      "cell_type": "code",
      "metadata": {
        "id": "bne6kYE0U-Ex",
        "colab_type": "code",
        "colab": {}
      },
      "source": [
        "qcomp = provider.get_backend('ibmq_16_melbourne')"
      ],
      "execution_count": 33,
      "outputs": []
    },
    {
      "cell_type": "markdown",
      "metadata": {
        "id": "4iHDFt6yVY3e",
        "colab_type": "text"
      },
      "source": [
        "lets feed our circuit into the quantum computer"
      ]
    },
    {
      "cell_type": "code",
      "metadata": {
        "id": "S8qHDWp2VyvW",
        "colab_type": "code",
        "colab": {}
      },
      "source": [
        "job = q.execute(circuit, backend=qcomp)"
      ],
      "execution_count": 34,
      "outputs": []
    },
    {
      "cell_type": "markdown",
      "metadata": {
        "id": "_bdRsfDzV1yE",
        "colab_type": "text"
      },
      "source": [
        "it takes some time , so lets monitor our job"
      ]
    },
    {
      "cell_type": "code",
      "metadata": {
        "id": "uEOZieIhV9N7",
        "colab_type": "code",
        "colab": {
          "base_uri": "https://localhost:8080/",
          "height": 35
        },
        "outputId": "61d1a5d8-d643-4fc0-e16e-dcc9ac69e1e4"
      },
      "source": [
        "from qiskit.tools.monitor import job_monitor\n",
        "job_monitor(job)"
      ],
      "execution_count": 35,
      "outputs": [
        {
          "output_type": "stream",
          "text": [
            "Job Status: job has successfully run\n"
          ],
          "name": "stdout"
        }
      ]
    },
    {
      "cell_type": "markdown",
      "metadata": {
        "id": "cXhMyC9EWSNK",
        "colab_type": "text"
      },
      "source": [
        "lets see the results:"
      ]
    },
    {
      "cell_type": "code",
      "metadata": {
        "id": "jPS9Nk2-WWJY",
        "colab_type": "code",
        "colab": {
          "base_uri": "https://localhost:8080/",
          "height": 35
        },
        "outputId": "814d4bf5-7925-4e74-8e20-6446a80a1c2a"
      },
      "source": [
        "result = job.result()\n",
        "counts = result.get_counts(circuit)\n",
        "print(counts)"
      ],
      "execution_count": 36,
      "outputs": [
        {
          "output_type": "stream",
          "text": [
            "{'01': 60, '00': 486, '11': 415, '10': 63}\n"
          ],
          "name": "stdout"
        }
      ]
    },
    {
      "cell_type": "markdown",
      "metadata": {
        "id": "Hjn7toa2WnPr",
        "colab_type": "text"
      },
      "source": [
        "visualize the counts"
      ]
    },
    {
      "cell_type": "code",
      "metadata": {
        "id": "k1xMBm-XWiAr",
        "colab_type": "code",
        "colab": {
          "base_uri": "https://localhost:8080/",
          "height": 331
        },
        "outputId": "c3dfc35c-d583-4ae5-d054-10c45b42b95b"
      },
      "source": [
        "plot_histogram(counts)"
      ],
      "execution_count": 37,
      "outputs": [
        {
          "output_type": "execute_result",
          "data": {
            "image/png": "[encoded data removed]",
            "text/plain": [
              "<Figure size 504x360 with 1 Axes>"
            ]
          },
          "metadata": {
            "tags": []
          },
          "execution_count": 37
        }
      ]
    }
  ]
}